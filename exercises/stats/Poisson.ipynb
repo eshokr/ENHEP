{
 "cells": [
  {
   "cell_type": "markdown",
   "metadata": {},
   "source": [
    "# Poisson Central Confidence Intervals\n",
    " >__Created__:  02 October 2017 Harrison B. Prosper\n",
    "\n",
    " > __Updated__: 22 January 2019, adapted for ENHEP 19, Egypt, HBP\n",
    " \n",
    " Define the *right* and *left* cumulative distribution functions of the Poisson distribution,\n",
    " \\begin{align*}\n",
    "      D_R(N, a) & = \\sum_{k=N}^\\infty \\textrm{Poisson}(k, a) = P(N, a),\\\\\n",
    "      \\textrm{and   } D_L(N, a) & = \\sum_{k=0}^N \\textrm{Poisson}(k, a) = 1 - P(N+1, a),\n",
    " \\end{align*}\n",
    "where $P(N, a)$ is the normalized lower incomplete gamma function\n",
    "\\begin{align*}\n",
    "P(N, a) & = \\int_0^a t^{N-1} e^{-t} \\, dt \\, / \\, \\Gamma(N),\n",
    "\\end{align*}\n",
    "which can be computed with the ROOT function TMath::Gamma(N, a).\n",
    "\n",
    "In this example, we use the functions $D_R$ and $D_L$ to compute __central confidence intervals__ for the Poisson distribution, which, by construction, have *exact* coverage.  By exact coverage we mean that the coverage probability $f \\geq \\textrm{CL} \\,\\, \\, \\forall a$, where CL is the desired __confidence level__.  We also compute the coverage of the $[N - \\sqrt{N},  N + \\sqrt{N}]$ intervals, but corrected as follows: $[N - \\sqrt{N},  N + \\sqrt{N} + \\exp(-N)]$. The coverage of the corrected intervals is still *approximate* in that the coverage probability dips below CL for subsets of the mean $a$, but the coverage is considerable better for low values of $a$ than for the uncorrected intervals.\n",
    "\n",
    "We use a confidence level of CL = 0.683.\n"
   ]
  },
  {
   "cell_type": "code",
   "execution_count": 1,
   "metadata": {},
   "outputs": [
    {
     "name": "stdout",
     "output_type": "stream",
     "text": [
      "Welcome to JupyROOT 6.14/06\n"
     ]
    }
   ],
   "source": [
    "import os, sys\n",
    "import ROOT\n",
    "from math import sqrt, exp\n",
    "%jsroot off\n",
    "%run \"setStyle.ipynb\""
   ]
  },
  {
   "cell_type": "code",
   "execution_count": 2,
   "metadata": {},
   "outputs": [],
   "source": [
    "ran  = ROOT.TRandom3()\n",
    "Nmax = 175    # maximum count for which confidence intervals are to be computed\n",
    "amin =   0.0  # minimum mean value\n",
    "amax =  25.0  # maximum mean value (should << Nmax)\n",
    "Nexp = 500    # number of experiments, each with a different mean\n",
    "Nrep = 1000   # number of repeated experiments\n",
    "CL   = 0.683  # confidence level"
   ]
  },
  {
   "cell_type": "markdown",
   "metadata": {},
   "source": [
    "#### Compute central interval"
   ]
  },
  {
   "cell_type": "code",
   "execution_count": 3,
   "metadata": {},
   "outputs": [],
   "source": [
    "def computeCentralIntervals(N, p=0.683):\n",
    "    from math import sqrt\n",
    "    def fR(x):\n",
    "        # right cumulative distribution function\n",
    "        DR = ROOT.TMath.Gamma(N, x[0])\n",
    "        return DR - (1 - p)/2\n",
    "    \n",
    "    def fL(x):\n",
    "        # left cumulative distribution function\n",
    "        DL = 1 - ROOT.TMath.Gamma(N + 1, x[0])\n",
    "        return DL - (1 - p)/2\n",
    "\n",
    "    def findLimit(name, func, smin, smax):\n",
    "        f  = ROOT.TF1(name, func, smin, smax)\n",
    "        wf = ROOT.Math.WrappedTF1(f)\n",
    "        rf = ROOT.Math.BrentRootFinder()\n",
    "        rf.SetFunction(wf, smin, smax)\n",
    "        ItWorked = rf.Solve()\n",
    "        if ItWorked:\n",
    "            return rf.Root()\n",
    "        else:\n",
    "            sys.exit(\"*** rootfinder failed\")\n",
    "        \n",
    "    # find aL\n",
    "    if N == 0:\n",
    "        aL = 0.0\n",
    "    else:\n",
    "        smin = max(0.01, N - 2*sqrt(N))\n",
    "        smax = N\n",
    "        aL = findLimit('aL', fR, smin, smax)\n",
    "        \n",
    "    # find aU\n",
    "    smin = N \n",
    "    smax = N + 2*sqrt(N) + 5\n",
    "    aU = findLimit('aU', fL, smin, smax)\n",
    "\n",
    "    return (aL, aU)"
   ]
  },
  {
   "cell_type": "markdown",
   "metadata": {},
   "source": [
    "#### Compute all central intervals for $N = 0 \\textrm{ to } N_\\textrm{max}$"
   ]
  },
  {
   "cell_type": "code",
   "execution_count": 4,
   "metadata": {},
   "outputs": [],
   "source": [
    "central = [computeCentralIntervals(N, CL) for N in xrange(Nmax)]\n",
    "rootN0  = [(N - sqrt(N), N + sqrt(N)) for N in range(Nmax)]\n",
    "rootNC  = [(N - sqrt(N), N + sqrt(N)+exp(-N)) for N in range(Nmax)]"
   ]
  },
  {
   "cell_type": "markdown",
   "metadata": {},
   "source": [
    "#### Compute coverage associated with different mean values $a$ \n",
    "\n",
    "  * *Monte Carlo Simulation* For each value of $a$, repeat the associated experiment $N_\\textrm{exp}$ times and count how often the statement $a \\in [a_L, a_U]$ is true. \n",
    "  \n",
    "  * *Direct Calcuation* For each value of $a$, use the computed intervals to find the central interval $[N_L, N_U]$ in the space of observations and compute the coverage $p = D_R(N_L, a) - D_R(N_U+1, a)$."
   ]
  },
  {
   "cell_type": "code",
   "execution_count": 5,
   "metadata": {},
   "outputs": [],
   "source": [
    "def computeCoverage(intervals, amin, amax, nexp, ran=None, n=1000): \n",
    "    from math import sqrt\n",
    "    \n",
    "    bySimulation = ran != None\n",
    "    \n",
    "    step = (amax - amin) / nexp\n",
    "    coverage = []\n",
    "    for j in xrange(nexp):\n",
    "        # mean value\n",
    "        a = (j+0.5)*step\n",
    "        #if j % 50 == 0:\n",
    "        #    print \"experiment %5d with mean %10.3f\" % (j, a)\n",
    "            \n",
    "        if bySimulation:\n",
    "            # compute coverage by simulation\n",
    "            # repeat the same experiment n times and\n",
    "            # count number of true statements\n",
    "            k = 0\n",
    "            for i in xrange(n):\n",
    "                N = ran.Poisson(a)\n",
    "                if N < len(intervals):\n",
    "                    aL, aU = intervals[N]\n",
    "                    if (aL < a) and (a < aU):\n",
    "                        k += 1\n",
    "                else:\n",
    "                    print \"** no interval for N = %d\" % N\n",
    "        \n",
    "            # compute coverage fraction (i.e., fraction of true statements)\n",
    "            p  = float(k)/n\n",
    "    \n",
    "            # since we have k true statements our of n, this is a binomial\n",
    "            # problem with variance n*p*(1-p). Therefore, a rough estimate\n",
    "            # of the uncertainty in p is\n",
    "            dp = sqrt(n*p*(1-p))/n\n",
    "        else:\n",
    "            # compute coverage exactly\n",
    "            NL = None\n",
    "            for N in xrange(len(intervals)):\n",
    "                aL, aU = intervals[N]\n",
    "                if (aL < a) and (a < aU):\n",
    "                    NL = N\n",
    "                    break\n",
    "            NU = None\n",
    "            for N in xrange(NL, len(intervals)+1):\n",
    "                aL, aU = intervals[N]\n",
    "                if (aL < a) and (a < aU):\n",
    "                    NU = N\n",
    "                else:\n",
    "                    break\n",
    "            if NL == None:\n",
    "                sys.exit(\"** can't find NL\")\n",
    "            if NU == None:\n",
    "                sys.exit(\"** can't find NU\")\n",
    "            p = ROOT.TMath.Gamma(NL, a) - ROOT.TMath.Gamma(NU+1, a)\n",
    "            dp= 0.0\n",
    "            #print \"%10.3f [%d, %d] = %10.3f\" % (a, NL, NU, p)\n",
    "        coverage.append((a, p, dp))\n",
    "        \n",
    "    return coverage"
   ]
  },
  {
   "cell_type": "code",
   "execution_count": 6,
   "metadata": {},
   "outputs": [
    {
     "name": "stdout",
     "output_type": "stream",
     "text": [
      "number of experiments: 500\n"
     ]
    }
   ],
   "source": [
    "# compute coverage by simulation\n",
    "coverageSim = computeCoverage(central, amin, amax, Nexp, ran, Nrep)\n",
    "print \"number of experiments: %d\" % len(coverageSim)"
   ]
  },
  {
   "cell_type": "code",
   "execution_count": 7,
   "metadata": {
    "scrolled": true
   },
   "outputs": [
    {
     "name": "stdout",
     "output_type": "stream",
     "text": [
      "number of experiments: 500\n"
     ]
    }
   ],
   "source": [
    "# compute coverage exactly\n",
    "coverageExact = computeCoverage(central, amin, amax, Nexp)\n",
    "print \"number of experiments: %d\" % len(coverageExact)"
   ]
  },
  {
   "cell_type": "code",
   "execution_count": 8,
   "metadata": {},
   "outputs": [
    {
     "name": "stdout",
     "output_type": "stream",
     "text": [
      "number of experiments: 500\n"
     ]
    }
   ],
   "source": [
    "# compute coverage of rootN0 intervals exactly\n",
    "coverageRootN0 = computeCoverage(rootN0, amin, amax, Nexp)\n",
    "print \"number of experiments: %d\" % len(coverageRootN0)"
   ]
  },
  {
   "cell_type": "code",
   "execution_count": 9,
   "metadata": {},
   "outputs": [
    {
     "name": "stdout",
     "output_type": "stream",
     "text": [
      "number of experiments: 500\n"
     ]
    }
   ],
   "source": [
    "# compute coverage of rootN intervals exactly\n",
    "coverageRootNC = computeCoverage(rootNC, amin, amax, Nexp)\n",
    "print \"number of experiments: %d\" % len(coverageRootNC)"
   ]
  },
  {
   "cell_type": "markdown",
   "metadata": {},
   "source": [
    "### Plot coverage vs. mean count $a$"
   ]
  },
  {
   "cell_type": "code",
   "execution_count": 10,
   "metadata": {},
   "outputs": [],
   "source": [
    "def plotCoverage(coverage, amin, amax, CL=0.683):\n",
    "    from array import array\n",
    "    \n",
    "    # create a graph of coverage vs. mean\n",
    "    nexp = len(coverage)\n",
    "    a = array('d')\n",
    "    p = array('d')\n",
    "    for x, q, dq in coverage:\n",
    "        a.append(x)\n",
    "        p.append(q)\n",
    "        \n",
    "    g = ROOT.TGraph(nexp, a, p)\n",
    "    g.SetLineWidth(2)\n",
    "    g.SetLineColor(ROOT.kBlue)\n",
    "    g.GetXaxis().SetLimits(amin, amax)\n",
    "    g.GetXaxis().SetTitle('Poisson mean #font[12]{s}')\n",
    "    g.GetYaxis().SetTitle('#font[12]{f} = Pr( #font[12]{s} #in '\\\n",
    "                          '[#font[12]{l}(#font[12]{n}), #font[12]{u}(#font[12]{n})] )    ')\n",
    "    g.GetHistogram().SetAxisRange(0, 1, \"Y\")\n",
    "    \n",
    "    a[0], a[1] = amin, amax\n",
    "    p[0] = p[1]= CL\n",
    "    hline = ROOT.TGraph(2, a, p)\n",
    "    hline.GetXaxis().SetLimits(amin, amax)\n",
    "    hline.GetHistogram().SetAxisRange(0, 1, \"Y\")\n",
    "    hline.SetLineWidth(2)\n",
    "    hline.SetLineColor(ROOT.kRed)\n",
    "    \n",
    "    return (g, hline)"
   ]
  },
  {
   "cell_type": "code",
   "execution_count": 11,
   "metadata": {},
   "outputs": [
    {
     "name": "stderr",
     "output_type": "stream",
     "text": [
      "Info in <TCanvas::Print>: png file ./fig_coverage_Poisson_intervals.png has been created\n"
     ]
    },
    {
     "data": {
      "image/png": "[encoded data removed]",
      "text/plain": [
       "<IPython.core.display.Image object>"
      ]
     },
     "metadata": {},
     "output_type": "display_data"
    }
   ],
   "source": [
    "setStyle()\n",
    "gsim,   hsim   = plotCoverage(coverageSim,   amin, amax, CL)\n",
    "gexact, hexact = plotCoverage(coverageExact, amin, amax, CL)\n",
    "grootN0,hrootN0= plotCoverage(coverageRootN0,amin, amax, CL)\n",
    "grootNC,hrootNC= plotCoverage(coverageRootNC,amin, amax, CL)\n",
    "grootN0.SetLineColor(ROOT.kGreen+2)\n",
    "grootNC.SetLineColor(ROOT.kMagenta+2)\n",
    "\n",
    "c = ROOT.TCanvas(\"fig_coverage_Poisson_intervals\", \"coverage\", 1000, 500);\n",
    "gexact.Draw('al')\n",
    "hexact.Draw('lsame')\n",
    "grootN0.Draw('lsame')\n",
    "grootNC.Draw('lsame')\n",
    "lg = mklegend(0.4, 0.25, 0.42, 0.35)\n",
    "lg.AddEntry(gexact, 'central intervals','l')\n",
    "lg.AddEntry(grootN0, \n",
    "            '[#font[12]{n} - #surd#font[12]{n}, '\\\n",
    "            '#font[12]{n} + #surd#font[12]{n}] intervals', 'l')\n",
    "lg.AddEntry(grootNC, \n",
    "            '[#font[12]{n} - #surd#font[12]{n}, '\\\n",
    "            '#font[12]{n} + #surd#font[12]{n} + exp(-#font[12]{n})] intervals', 'l')\n",
    "lg.Draw()\n",
    "c.Draw()\n",
    "c.SaveAs(\".png\")"
   ]
  },
  {
   "cell_type": "code",
   "execution_count": null,
   "metadata": {},
   "outputs": [],
   "source": []
  },
  {
   "cell_type": "code",
   "execution_count": null,
   "metadata": {},
   "outputs": [],
   "source": []
  }
 ],
 "metadata": {
  "kernelspec": {
   "display_name": "Python 2",
   "language": "python",
   "name": "python2"
  },
  "language_info": {
   "codemirror_mode": {
    "name": "ipython",
    "version": 2
   },
   "file_extension": ".py",
   "mimetype": "text/x-python",
   "name": "python",
   "nbconvert_exporter": "python",
   "pygments_lexer": "ipython2",
   "version": "2.7.14"
  }
 },
 "nbformat": 4,
 "nbformat_minor": 1
}
